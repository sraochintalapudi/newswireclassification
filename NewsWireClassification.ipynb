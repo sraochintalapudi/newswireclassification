{
  "nbformat": 4,
  "nbformat_minor": 0,
  "metadata": {
    "colab": {
      "name": "NewsWireClassification.ipynb",
      "provenance": [],
      "collapsed_sections": []
    },
    "kernelspec": {
      "name": "python3",
      "display_name": "Python 3"
    }
  },
  "cells": [
    {
      "cell_type": "code",
      "metadata": {
        "id": "tK7BOA6gIRHr"
      },
      "source": [
        "import matplotlib\n",
        "import matplotlib.pyplot as plt\n",
        "import numpy as np\n",
        "from keras.utils import to_categorical\n",
        "from keras import models\n",
        "from keras import layers"
      ],
      "execution_count": null,
      "outputs": []
    },
    {
      "cell_type": "code",
      "metadata": {
        "id": "cO1W0AipJizz"
      },
      "source": [
        "from keras.datasets import reuters"
      ],
      "execution_count": null,
      "outputs": []
    },
    {
      "cell_type": "code",
      "metadata": {
        "id": "kqPfALKnJ0Ck"
      },
      "source": [
        "(train_data,train_labels),(test_data,test_labels)=reuters.load_data(num_words=10000)"
      ],
      "execution_count": null,
      "outputs": []
    },
    {
      "cell_type": "code",
      "metadata": {
        "id": "lj_NYtHPKZ-Z",
        "colab": {
          "base_uri": "https://localhost:8080/",
          "height": 51
        },
        "outputId": "3f573508-2b59-4c5d-db38-9c188ff0f248"
      },
      "source": [
        "print(\"Categories:\",np.unique(train_labels))"
      ],
      "execution_count": null,
      "outputs": [
        {
          "output_type": "stream",
          "text": [
            "Categories: [ 0  1  2  3  4  5  6  7  8  9 10 11 12 13 14 15 16 17 18 19 20 21 22 23\n",
            " 24 25 26 27 28 29 30 31 32 33 34 35 36 37 38 39 40 41 42 43 44 45]\n"
          ],
          "name": "stdout"
        }
      ]
    },
    {
      "cell_type": "code",
      "metadata": {
        "id": "VYITOhteL75U",
        "colab": {
          "base_uri": "https://localhost:8080/",
          "height": 34
        },
        "outputId": "80735e00-8c25-428f-9a44-6817ebaf2907"
      },
      "source": [
        "print(\"No of unique words :\",len(np.unique(np.hstack(train_data))))"
      ],
      "execution_count": null,
      "outputs": [
        {
          "output_type": "stream",
          "text": [
            "No of unique words : 9982\n"
          ],
          "name": "stdout"
        }
      ]
    },
    {
      "cell_type": "code",
      "metadata": {
        "id": "hJBZIW9kMYlQ",
        "colab": {
          "base_uri": "https://localhost:8080/",
          "height": 51
        },
        "outputId": "5b93c899-b117-4ff9-b642-bf84e8bd9726"
      },
      "source": [
        "length=[len(i) for i in train_data]\n",
        "print(\"Average Review Length:\", np.mean(length))\n",
        "print(\"Standard Deviation:\", round(np.std(length)))"
      ],
      "execution_count": null,
      "outputs": [
        {
          "output_type": "stream",
          "text": [
            "Average Review Length: 145.5398574927633\n",
            "Standard Deviation: 146.0\n"
          ],
          "name": "stdout"
        }
      ]
    },
    {
      "cell_type": "code",
      "metadata": {
        "id": "nMRbQVBhNifw",
        "colab": {
          "base_uri": "https://localhost:8080/",
          "height": 34
        },
        "outputId": "7522b6f2-189b-4b54-9318-39add7fad253"
      },
      "source": [
        "print(\"label:\",train_labels[0])"
      ],
      "execution_count": null,
      "outputs": [
        {
          "output_type": "stream",
          "text": [
            "label: 3\n"
          ],
          "name": "stdout"
        }
      ]
    },
    {
      "cell_type": "code",
      "metadata": {
        "id": "nuEjMlB4Nsu1",
        "colab": {
          "base_uri": "https://localhost:8080/",
          "height": 54
        },
        "outputId": "3cc6c8bb-e60f-405c-c363-24b17b132901"
      },
      "source": [
        "print(train_data[0])"
      ],
      "execution_count": null,
      "outputs": [
        {
          "output_type": "stream",
          "text": [
            "[1, 2, 2, 8, 43, 10, 447, 5, 25, 207, 270, 5, 3095, 111, 16, 369, 186, 90, 67, 7, 89, 5, 19, 102, 6, 19, 124, 15, 90, 67, 84, 22, 482, 26, 7, 48, 4, 49, 8, 864, 39, 209, 154, 6, 151, 6, 83, 11, 15, 22, 155, 11, 15, 7, 48, 9, 4579, 1005, 504, 6, 258, 6, 272, 11, 15, 22, 134, 44, 11, 15, 16, 8, 197, 1245, 90, 67, 52, 29, 209, 30, 32, 132, 6, 109, 15, 17, 12]\n"
          ],
          "name": "stdout"
        }
      ]
    },
    {
      "cell_type": "code",
      "metadata": {
        "id": "0_xiS1TlPNUE",
        "colab": {
          "base_uri": "https://localhost:8080/",
          "height": 88
        },
        "outputId": "b6ab6485-0893-4f8e-828a-6885dd5e3b35"
      },
      "source": [
        "#show the actual words\n",
        "word_index = reuters.get_word_index()\n",
        "reverse_word_index = dict([(value, key) for (key, value) in word_index.items()])\n",
        "decoded_review = \" \".join([reverse_word_index.get(i - 3 ,\"?\") for i in train_data[1]])\n",
        "print(decoded_review)"
      ],
      "execution_count": null,
      "outputs": [
        {
          "output_type": "stream",
          "text": [
            "Downloading data from https://s3.amazonaws.com/text-datasets/reuters_word_index.json\n",
            "557056/550378 [==============================] - 0s 0us/step\n",
            "? generale de banque sa lt ? br and lt heller overseas corp of chicago have each taken 50 pct stakes in ? company sa ? factors generale de banque said in a statement it gave no financial details of the transaction sa ? ? turnover in 1986 was 17 5 billion belgian francs reuter 3\n"
          ],
          "name": "stdout"
        }
      ]
    },
    {
      "cell_type": "code",
      "metadata": {
        "id": "LBoXbDbNPabl"
      },
      "source": [
        "def vectorize_sequences(sequences, dimension=10000):\n",
        "    #creating a numpy array \n",
        "    results = np.zeros((len(sequences), dimension))\n",
        "    for i , sequence in enumerate(sequences):\n",
        "        results[i, sequence] = 1\n",
        "    return results\n"
      ],
      "execution_count": null,
      "outputs": []
    },
    {
      "cell_type": "code",
      "metadata": {
        "id": "43V9UaU_Pm9M"
      },
      "source": [
        "x_train = vectorize_sequences(train_data)\n",
        "x_test = vectorize_sequences(test_data)"
      ],
      "execution_count": null,
      "outputs": []
    },
    {
      "cell_type": "code",
      "metadata": {
        "id": "O1z7OBbTPseS"
      },
      "source": [
        "#transform categories into numpy floats\n",
        "y_train = np.array(train_labels).astype(\"float32\")\n",
        "y_test = np.array(test_labels).astype(\"float32\")"
      ],
      "execution_count": null,
      "outputs": []
    },
    {
      "cell_type": "code",
      "metadata": {
        "id": "lc2b7MZ6P7H6"
      },
      "source": [
        "# Converts integers to binary class matrix\n",
        "y_train = to_categorical(train_labels)\n",
        "y_test = to_categorical(test_labels)"
      ],
      "execution_count": null,
      "outputs": []
    },
    {
      "cell_type": "code",
      "metadata": {
        "id": "Tq7i5hpxQHYK",
        "colab": {
          "base_uri": "https://localhost:8080/",
          "height": 136
        },
        "outputId": "2c8ab53b-141f-49b1-8bf8-87f62e02984e"
      },
      "source": [
        "y_train"
      ],
      "execution_count": null,
      "outputs": [
        {
          "output_type": "execute_result",
          "data": {
            "text/plain": [
              "array([[0., 0., 0., ..., 0., 0., 0.],\n",
              "       [0., 0., 0., ..., 0., 0., 0.],\n",
              "       [0., 0., 0., ..., 0., 0., 0.],\n",
              "       ...,\n",
              "       [0., 0., 0., ..., 0., 0., 0.],\n",
              "       [0., 0., 0., ..., 0., 0., 0.],\n",
              "       [0., 0., 0., ..., 0., 0., 0.]], dtype=float32)"
            ]
          },
          "metadata": {
            "tags": []
          },
          "execution_count": 33
        }
      ]
    },
    {
      "cell_type": "code",
      "metadata": {
        "id": "oV1Gpb7ZQMCy",
        "colab": {
          "base_uri": "https://localhost:8080/",
          "height": 561
        },
        "outputId": "f25521e1-3489-40c6-c199-fc0c69e59c76"
      },
      "source": [
        "model=models.Sequential()\n",
        "\n",
        "# Input-Layer\n",
        "model.add(layers.Dense(16,activation=\"relu\",input_shape=(10000,)))\n",
        "\n",
        "# Hidden-Layers\n",
        "model.add(layers.Dropout(0.2, noise_shape=None, seed=None))\n",
        "model.add(layers.Dense(55,activation=\"relu\"))\n",
        "model.add(layers.Dropout(0.4, noise_shape=None, seed=None))\n",
        "model.add(layers.Dense(85,activation=\"relu\"))\n",
        "model.add(layers.Dense(85,activation=\"relu\"))\n",
        "model.add(layers.Dense(85,activation=\"relu\"))\n",
        "model.add(layers.Dropout(0.4, noise_shape=None, seed=None))\n",
        "model.add(layers.Dense(55,activation=\"relu\"))\n",
        "model.add(layers.Dropout(0.2, noise_shape=None, seed=None))\n",
        "model.add(layers.Dense(16,activation=\"relu\"))\n",
        "\n",
        "# Output-Layer\n",
        "model.add(layers.Dense(46, activation=\"softmax\"))\n",
        "\n",
        "model.summary()"
      ],
      "execution_count": null,
      "outputs": [
        {
          "output_type": "stream",
          "text": [
            "Model: \"sequential_1\"\n",
            "_________________________________________________________________\n",
            "Layer (type)                 Output Shape              Param #   \n",
            "=================================================================\n",
            "dense_1 (Dense)              (None, 16)                160016    \n",
            "_________________________________________________________________\n",
            "dropout_1 (Dropout)          (None, 16)                0         \n",
            "_________________________________________________________________\n",
            "dense_2 (Dense)              (None, 55)                935       \n",
            "_________________________________________________________________\n",
            "dropout_2 (Dropout)          (None, 55)                0         \n",
            "_________________________________________________________________\n",
            "dense_3 (Dense)              (None, 85)                4760      \n",
            "_________________________________________________________________\n",
            "dense_4 (Dense)              (None, 85)                7310      \n",
            "_________________________________________________________________\n",
            "dense_5 (Dense)              (None, 85)                7310      \n",
            "_________________________________________________________________\n",
            "dropout_3 (Dropout)          (None, 85)                0         \n",
            "_________________________________________________________________\n",
            "dense_6 (Dense)              (None, 55)                4730      \n",
            "_________________________________________________________________\n",
            "dropout_4 (Dropout)          (None, 55)                0         \n",
            "_________________________________________________________________\n",
            "dense_7 (Dense)              (None, 16)                896       \n",
            "_________________________________________________________________\n",
            "dense_8 (Dense)              (None, 46)                782       \n",
            "=================================================================\n",
            "Total params: 186,739\n",
            "Trainable params: 186,739\n",
            "Non-trainable params: 0\n",
            "_________________________________________________________________\n"
          ],
          "name": "stdout"
        }
      ]
    },
    {
      "cell_type": "code",
      "metadata": {
        "id": "5x4KHnEWQcKS"
      },
      "source": [
        "model.compile(\n",
        "    optimizer=\"rmsprop\",\n",
        "    loss=\"binary_crossentropy\",\n",
        "    metrics=[\"accuracy\"] \n",
        ")"
      ],
      "execution_count": null,
      "outputs": []
    },
    {
      "cell_type": "code",
      "metadata": {
        "id": "FkGtLV3uROg6"
      },
      "source": [
        "# creating validation set\n",
        "x_val = x_train[:4000]\n",
        "partial_x_train = x_train[4000:]\n",
        "y_val = y_train[:4000]\n",
        "partial_y_train = y_train[4000:]"
      ],
      "execution_count": null,
      "outputs": []
    },
    {
      "cell_type": "code",
      "metadata": {
        "id": "mU-ohEzSRW9w",
        "colab": {
          "base_uri": "https://localhost:8080/",
          "height": 374
        },
        "outputId": "8fe61fa1-28e2-4cc4-883b-0295ddd8df4d"
      },
      "source": [
        "history = model.fit(\n",
        "partial_x_train, partial_y_train,\n",
        "epochs=10,\n",
        "batch_size=512,\n",
        "validation_data=(x_val,y_val)\n",
        ")"
      ],
      "execution_count": null,
      "outputs": [
        {
          "output_type": "stream",
          "text": [
            "Train on 4982 samples, validate on 4000 samples\n",
            "Epoch 1/10\n",
            "4982/4982 [==============================] - 1s 267us/step - loss: 0.1011 - accuracy: 0.9783 - val_loss: 0.0907 - val_accuracy: 0.9783\n",
            "Epoch 2/10\n",
            "4982/4982 [==============================] - 1s 131us/step - loss: 0.0800 - accuracy: 0.9812 - val_loss: 0.0711 - val_accuracy: 0.9844\n",
            "Epoch 3/10\n",
            "4982/4982 [==============================] - 1s 128us/step - loss: 0.0652 - accuracy: 0.9844 - val_loss: 0.0606 - val_accuracy: 0.9854\n",
            "Epoch 4/10\n",
            "4982/4982 [==============================] - 1s 126us/step - loss: 0.0557 - accuracy: 0.9866 - val_loss: 0.0554 - val_accuracy: 0.9880\n",
            "Epoch 5/10\n",
            "4982/4982 [==============================] - 1s 125us/step - loss: 0.0509 - accuracy: 0.9880 - val_loss: 0.0538 - val_accuracy: 0.9882\n",
            "Epoch 6/10\n",
            "4982/4982 [==============================] - 1s 126us/step - loss: 0.0487 - accuracy: 0.9884 - val_loss: 0.0531 - val_accuracy: 0.9882\n",
            "Epoch 7/10\n",
            "4982/4982 [==============================] - 1s 129us/step - loss: 0.0470 - accuracy: 0.9888 - val_loss: 0.0533 - val_accuracy: 0.9880\n",
            "Epoch 8/10\n",
            "4982/4982 [==============================] - 1s 127us/step - loss: 0.0446 - accuracy: 0.9892 - val_loss: 0.0533 - val_accuracy: 0.9881\n",
            "Epoch 9/10\n",
            "4982/4982 [==============================] - 1s 126us/step - loss: 0.0436 - accuracy: 0.9893 - val_loss: 0.0526 - val_accuracy: 0.9881\n",
            "Epoch 10/10\n",
            "4982/4982 [==============================] - 1s 127us/step - loss: 0.0426 - accuracy: 0.9892 - val_loss: 0.0531 - val_accuracy: 0.9881\n"
          ],
          "name": "stdout"
        }
      ]
    },
    {
      "cell_type": "code",
      "metadata": {
        "id": "2jvd98XuRmNZ",
        "colab": {
          "base_uri": "https://localhost:8080/",
          "height": 295
        },
        "outputId": "ffceedab-eee4-4262-ec2e-db9d20f38373"
      },
      "source": [
        "history_dict = history.history\n",
        "loss_values = history_dict[\"loss\"]\n",
        "\n",
        "plt.clf()\n",
        "\n",
        "acc_values = history_dict[\"accuracy\"]\n",
        "val_acc_values = history_dict[\"val_accuracy\"]\n",
        "\n",
        "epochs = range(1, len(loss_values) + 1)\n",
        "\n",
        "plt.plot(epochs, acc_values, label = \"Training Accuracy\")\n",
        "plt.plot(epochs, val_acc_values, label =\"Validation Accuracy\")\n",
        "plt.legend()\n",
        "plt.title(\"Model Accuracy\")\n",
        "plt.xlabel(\"Epochs\")\n",
        "plt.ylabel(\"Accuracy\")\n",
        "plt.show()"
      ],
      "execution_count": null,
      "outputs": [
        {
          "output_type": "display_data",
          "data": {
            "image/png": "[encoded data removed]",
            "text/plain": [
              "<Figure size 432x288 with 1 Axes>"
            ]
          },
          "metadata": {
            "tags": [],
            "needs_background": "light"
          }
        }
      ]
    },
    {
      "cell_type": "code",
      "metadata": {
        "id": "uwe8bt9zShhP",
        "colab": {
          "base_uri": "https://localhost:8080/",
          "height": 34
        },
        "outputId": "490f2a90-fb6a-4b79-c969-7730e2e0f0ee"
      },
      "source": [
        "print(\"Validation Accuracy:\", np.mean(val_acc_values))"
      ],
      "execution_count": null,
      "outputs": [
        {
          "output_type": "stream",
          "text": [
            "Validation Accuracy: 0.9864881992340088\n"
          ],
          "name": "stdout"
        }
      ]
    }
  ]
}